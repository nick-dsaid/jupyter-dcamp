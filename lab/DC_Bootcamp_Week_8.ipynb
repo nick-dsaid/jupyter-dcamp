{
 "cells": [
  {
   "cell_type": "markdown",
   "metadata": {
    "id": "NpPlK3f9VIJg"
   },
   "source": [
    "# Numpy and Pandas"
   ]
  },
  {
   "cell_type": "markdown",
   "metadata": {
    "id": "gN2RFGn3VIJi"
   },
   "source": [
    "## Run The Following Code\n",
    "Hit SHIFT + ENTER when your cusor is inside the cell of code.<br/>"
   ]
  },
  {
   "cell_type": "markdown",
   "metadata": {
    "id": "dg1hBaA7VIJl"
   },
   "source": [
    "### Pandas"
   ]
  },
  {
   "cell_type": "markdown",
   "metadata": {
    "id": "3fskFP6UVIJo"
   },
   "source": [
    "> Data Preparation. Importing pandas"
   ]
  },
  {
   "cell_type": "code",
   "execution_count": 1,
   "metadata": {
    "id": "GChe2i8UVIJo"
   },
   "outputs": [],
   "source": [
    "import pandas as pd"
   ]
  },
  {
   "cell_type": "markdown",
   "metadata": {
    "id": "gctnxHQEVIJo"
   },
   "source": [
    "> Open up a CSV file"
   ]
  },
  {
   "cell_type": "code",
   "execution_count": 3,
   "metadata": {
    "id": "1Wyy8PlXVIJp"
   },
   "outputs": [],
   "source": [
    "hdb = 'week 9 data/0. Raw Data/sample/years/hdb_resale_sample_raw_2012.csv'\n",
    "\n",
    "df = pd.read_csv(hdb)"
   ]
  },
  {
   "cell_type": "markdown",
   "metadata": {
    "id": "8oNcfodGVIJq"
   },
   "source": [
    "> viewing the contents of the dataset"
   ]
  },
  {
   "cell_type": "markdown",
   "metadata": {},
   "source": [
    "The main dataset that we will work on is on HDB resale data.<br/>\n",
    "See the description below for the fields given. <br/>\n",
    "<br/>\n",
    "<table>\n",
    "    <tr><th>Field</th><th>Description</th></tr>\n",
    "    <tr><td>Trans_YearMonth</td><td>year-month (YYYY-MM) for transaction</td></tr>\n",
    "    <tr><td>town</td><td>town for the resale flat</td></tr>\n",
    "    <tr><td>flat_type</td><td>flat type for the resale flat</td></tr>\n",
    "    <tr><td>block</td><td>block for the resale flat</td></tr>\n",
    "    <tr><td>street_name</td><td>street for the resale flat</td></tr>\n",
    "    <tr><td>storey_range</td><td>storey range for the resale flat</td></tr>\n",
    "    <tr><td>floor_area_sqm</td><td>floor area in square meter</td></tr>\n",
    "    <tr><td>flat_model</td><td>model of resale flat</td></tr>\n",
    "    <tr><td>lease_commence_date</td><td>year of lease commencement</td></tr>\n",
    "    <tr><td>resale_price</td><td>price of the resale flat</td></tr>\n",
    "</table>"
   ]
  },
  {
   "cell_type": "code",
   "execution_count": 7,
   "metadata": {},
   "outputs": [
    {
     "data": {
      "text/plain": [
       "(1950, 9)"
      ]
     },
     "execution_count": 7,
     "metadata": {},
     "output_type": "execute_result"
    }
   ],
   "source": [
    "df.shape"
   ]
  },
  {
   "cell_type": "code",
   "execution_count": 8,
   "metadata": {
    "id": "nB2DLyrQVIJq"
   },
   "outputs": [
    {
     "data": {
      "text/html": [
       "<div>\n",
       "<style scoped>\n",
       "    .dataframe tbody tr th:only-of-type {\n",
       "        vertical-align: middle;\n",
       "    }\n",
       "\n",
       "    .dataframe tbody tr th {\n",
       "        vertical-align: top;\n",
       "    }\n",
       "\n",
       "    .dataframe thead th {\n",
       "        text-align: right;\n",
       "    }\n",
       "</style>\n",
       "<table border=\"1\" class=\"dataframe\">\n",
       "  <thead>\n",
       "    <tr style=\"text-align: right;\">\n",
       "      <th></th>\n",
       "      <th>Tranc_YearMonth</th>\n",
       "      <th>flat_type</th>\n",
       "      <th>block</th>\n",
       "      <th>street_name</th>\n",
       "      <th>storey_range</th>\n",
       "      <th>floor_area_sqm</th>\n",
       "      <th>flat_model</th>\n",
       "      <th>lease_commence_date</th>\n",
       "      <th>resale_price</th>\n",
       "    </tr>\n",
       "  </thead>\n",
       "  <tbody>\n",
       "    <tr>\n",
       "      <th>0</th>\n",
       "      <td>2012-03</td>\n",
       "      <td>3 ROOM</td>\n",
       "      <td>21</td>\n",
       "      <td>BALAM RD</td>\n",
       "      <td>01 TO 05</td>\n",
       "      <td>60.0</td>\n",
       "      <td>Standard</td>\n",
       "      <td>1967</td>\n",
       "      <td>276500</td>\n",
       "    </tr>\n",
       "    <tr>\n",
       "      <th>1</th>\n",
       "      <td>2012-03</td>\n",
       "      <td>3 ROOM</td>\n",
       "      <td>19</td>\n",
       "      <td>BALAM RD</td>\n",
       "      <td>06 TO 10</td>\n",
       "      <td>60.3</td>\n",
       "      <td>Standard</td>\n",
       "      <td>1967</td>\n",
       "      <td>285000</td>\n",
       "    </tr>\n",
       "    <tr>\n",
       "      <th>2</th>\n",
       "      <td>2012-03</td>\n",
       "      <td>3 ROOM</td>\n",
       "      <td>23</td>\n",
       "      <td>BALAM RD</td>\n",
       "      <td>01 TO 05</td>\n",
       "      <td>60.3</td>\n",
       "      <td>Standard</td>\n",
       "      <td>1967</td>\n",
       "      <td>290000</td>\n",
       "    </tr>\n",
       "    <tr>\n",
       "      <th>3</th>\n",
       "      <td>2012-03</td>\n",
       "      <td>3 ROOM</td>\n",
       "      <td>19</td>\n",
       "      <td>BALAM RD</td>\n",
       "      <td>01 TO 05</td>\n",
       "      <td>60.3</td>\n",
       "      <td>Standard</td>\n",
       "      <td>1967</td>\n",
       "      <td>295000</td>\n",
       "    </tr>\n",
       "    <tr>\n",
       "      <th>4</th>\n",
       "      <td>2012-03</td>\n",
       "      <td>3 ROOM</td>\n",
       "      <td>20</td>\n",
       "      <td>BALAM RD</td>\n",
       "      <td>01 TO 05</td>\n",
       "      <td>60.3</td>\n",
       "      <td>Standard</td>\n",
       "      <td>1967</td>\n",
       "      <td>299000</td>\n",
       "    </tr>\n",
       "  </tbody>\n",
       "</table>\n",
       "</div>"
      ],
      "text/plain": [
       "  Tranc_YearMonth flat_type block street_name storey_range  floor_area_sqm  \\\n",
       "0         2012-03    3 ROOM    21    BALAM RD     01 TO 05            60.0   \n",
       "1         2012-03    3 ROOM    19    BALAM RD     06 TO 10            60.3   \n",
       "2         2012-03    3 ROOM    23    BALAM RD     01 TO 05            60.3   \n",
       "3         2012-03    3 ROOM    19    BALAM RD     01 TO 05            60.3   \n",
       "4         2012-03    3 ROOM    20    BALAM RD     01 TO 05            60.3   \n",
       "\n",
       "  flat_model  lease_commence_date  resale_price  \n",
       "0   Standard                 1967        276500  \n",
       "1   Standard                 1967        285000  \n",
       "2   Standard                 1967        290000  \n",
       "3   Standard                 1967        295000  \n",
       "4   Standard                 1967        299000  "
      ]
     },
     "execution_count": 8,
     "metadata": {},
     "output_type": "execute_result"
    }
   ],
   "source": [
    "df.head() #first 5 rows of data"
   ]
  },
  {
   "cell_type": "markdown",
   "metadata": {},
   "source": [
    "> Concatenating DataFrames"
   ]
  },
  {
   "cell_type": "code",
   "execution_count": 9,
   "metadata": {},
   "outputs": [],
   "source": [
    "import os"
   ]
  },
  {
   "cell_type": "code",
   "execution_count": 10,
   "metadata": {},
   "outputs": [
    {
     "data": {
      "text/plain": [
       "['.ipynb_checkpoints',\n",
       " 'bak',\n",
       " 'DC Bootcamp Week 9.pdf',\n",
       " 'DC Bootcamp Week 9.pptx',\n",
       " 'DC_Bootcamp_Week_9.ipynb',\n",
       " 'DC_Bootcamp_Week_9_answers.ipynb',\n",
       " 'week 9 data',\n",
       " 'Week_09-20210610T091707Z-001.zip',\n",
       " '~$DC Bootcamp Week 9.pptx']"
      ]
     },
     "execution_count": 10,
     "metadata": {},
     "output_type": "execute_result"
    }
   ],
   "source": [
    "os.listdir() #prints out current working directory"
   ]
  },
  {
   "cell_type": "code",
   "execution_count": 11,
   "metadata": {},
   "outputs": [
    {
     "data": {
      "text/plain": [
       "['hdb_resale_sample_raw_2012.csv',\n",
       " 'hdb_resale_sample_raw_2013.csv',\n",
       " 'hdb_resale_sample_raw_2014.csv',\n",
       " 'hdb_resale_sample_raw_2015.csv',\n",
       " 'hdb_resale_sample_raw_2016.csv',\n",
       " 'hdb_resale_sample_raw_2017.csv',\n",
       " 'hdb_resale_sample_raw_2018.csv',\n",
       " 'hdb_resale_sample_raw_2019.csv',\n",
       " 'hdb_resale_sample_raw_2020.csv',\n",
       " 'hdb_resale_sample_raw_2021.csv']"
      ]
     },
     "execution_count": 11,
     "metadata": {},
     "output_type": "execute_result"
    }
   ],
   "source": [
    "os.listdir('week 9 data/0. Raw Data/sample/years') #prints out files in specific path"
   ]
  },
  {
   "cell_type": "code",
   "execution_count": 15,
   "metadata": {},
   "outputs": [
    {
     "name": "stdout",
     "output_type": "stream",
     "text": [
      "hdb_resale_sample_raw_2012.csv\n",
      "hdb_resale_sample_raw_2013.csv\n",
      "hdb_resale_sample_raw_2014.csv\n",
      "hdb_resale_sample_raw_2015.csv\n",
      "hdb_resale_sample_raw_2016.csv\n",
      "hdb_resale_sample_raw_2017.csv\n",
      "hdb_resale_sample_raw_2018.csv\n",
      "hdb_resale_sample_raw_2019.csv\n",
      "hdb_resale_sample_raw_2020.csv\n",
      "hdb_resale_sample_raw_2021.csv\n"
     ]
    }
   ],
   "source": [
    "for i in files:\n",
    "    print(i)"
   ]
  },
  {
   "cell_type": "code",
   "execution_count": 70,
   "metadata": {},
   "outputs": [
    {
     "name": "stdout",
     "output_type": "stream",
     "text": [
      "hdb_resale_sample_raw_2012.csv : (1950, 9)\n",
      "hdb_resale_sample_raw_2013.csv : (1491, 9)\n",
      "hdb_resale_sample_raw_2014.csv : (1320, 9)\n",
      "hdb_resale_sample_raw_2015.csv : (1562, 9)\n",
      "hdb_resale_sample_raw_2016.csv : (1523, 9)\n",
      "hdb_resale_sample_raw_2017.csv : (1641, 9)\n",
      "hdb_resale_sample_raw_2018.csv : (1631, 9)\n",
      "hdb_resale_sample_raw_2019.csv : (1654, 9)\n",
      "hdb_resale_sample_raw_2020.csv : (1610, 9)\n",
      "hdb_resale_sample_raw_2021.csv : (618, 9)\n"
     ]
    }
   ],
   "source": [
    "path = 'week 9 data/0. Raw Data/sample/years'\n",
    "files = os.listdir(path)\n",
    "\n",
    "dfs = []\n",
    "for i in files: #loop through the files and save \n",
    "    \n",
    "    df = pd.read_csv(path+'/'+i)\n",
    "    \n",
    "    print(i, ':', df.shape)\n",
    "    dfs.append(df)"
   ]
  },
  {
   "cell_type": "code",
   "execution_count": 17,
   "metadata": {},
   "outputs": [
    {
     "data": {
      "text/plain": [
       "list"
      ]
     },
     "execution_count": 17,
     "metadata": {},
     "output_type": "execute_result"
    }
   ],
   "source": [
    "type(dfs)"
   ]
  },
  {
   "cell_type": "code",
   "execution_count": 16,
   "metadata": {},
   "outputs": [
    {
     "data": {
      "text/plain": [
       "10"
      ]
     },
     "execution_count": 16,
     "metadata": {},
     "output_type": "execute_result"
    }
   ],
   "source": [
    "len(dfs)"
   ]
  },
  {
   "cell_type": "code",
   "execution_count": 71,
   "metadata": {},
   "outputs": [],
   "source": [
    "concatdf = pd.concat(dfs) #concatenate dataframes"
   ]
  },
  {
   "cell_type": "code",
   "execution_count": 72,
   "metadata": {},
   "outputs": [
    {
     "data": {
      "text/plain": [
       "(15000, 9)"
      ]
     },
     "execution_count": 72,
     "metadata": {},
     "output_type": "execute_result"
    }
   ],
   "source": [
    "concatdf.shape"
   ]
  },
  {
   "cell_type": "code",
   "execution_count": 30,
   "metadata": {},
   "outputs": [
    {
     "data": {
      "text/html": [
       "<div>\n",
       "<style scoped>\n",
       "    .dataframe tbody tr th:only-of-type {\n",
       "        vertical-align: middle;\n",
       "    }\n",
       "\n",
       "    .dataframe tbody tr th {\n",
       "        vertical-align: top;\n",
       "    }\n",
       "\n",
       "    .dataframe thead th {\n",
       "        text-align: right;\n",
       "    }\n",
       "</style>\n",
       "<table border=\"1\" class=\"dataframe\">\n",
       "  <thead>\n",
       "    <tr style=\"text-align: right;\">\n",
       "      <th></th>\n",
       "      <th>Tranc_YearMonth</th>\n",
       "      <th>flat_type</th>\n",
       "      <th>block</th>\n",
       "      <th>street_name</th>\n",
       "      <th>storey_range</th>\n",
       "      <th>floor_area_sqm</th>\n",
       "      <th>flat_model</th>\n",
       "      <th>lease_commence_date</th>\n",
       "      <th>resale_price</th>\n",
       "    </tr>\n",
       "  </thead>\n",
       "  <tbody>\n",
       "    <tr>\n",
       "      <th>0</th>\n",
       "      <td>2012-03</td>\n",
       "      <td>3 ROOM</td>\n",
       "      <td>21</td>\n",
       "      <td>BALAM RD</td>\n",
       "      <td>01 TO 05</td>\n",
       "      <td>60.0</td>\n",
       "      <td>Standard</td>\n",
       "      <td>1967</td>\n",
       "      <td>276500.0</td>\n",
       "    </tr>\n",
       "    <tr>\n",
       "      <th>1</th>\n",
       "      <td>2012-03</td>\n",
       "      <td>3 ROOM</td>\n",
       "      <td>19</td>\n",
       "      <td>BALAM RD</td>\n",
       "      <td>06 TO 10</td>\n",
       "      <td>60.3</td>\n",
       "      <td>Standard</td>\n",
       "      <td>1967</td>\n",
       "      <td>285000.0</td>\n",
       "    </tr>\n",
       "    <tr>\n",
       "      <th>2</th>\n",
       "      <td>2012-03</td>\n",
       "      <td>3 ROOM</td>\n",
       "      <td>23</td>\n",
       "      <td>BALAM RD</td>\n",
       "      <td>01 TO 05</td>\n",
       "      <td>60.3</td>\n",
       "      <td>Standard</td>\n",
       "      <td>1967</td>\n",
       "      <td>290000.0</td>\n",
       "    </tr>\n",
       "    <tr>\n",
       "      <th>3</th>\n",
       "      <td>2012-03</td>\n",
       "      <td>3 ROOM</td>\n",
       "      <td>19</td>\n",
       "      <td>BALAM RD</td>\n",
       "      <td>01 TO 05</td>\n",
       "      <td>60.3</td>\n",
       "      <td>Standard</td>\n",
       "      <td>1967</td>\n",
       "      <td>295000.0</td>\n",
       "    </tr>\n",
       "    <tr>\n",
       "      <th>4</th>\n",
       "      <td>2012-03</td>\n",
       "      <td>3 ROOM</td>\n",
       "      <td>20</td>\n",
       "      <td>BALAM RD</td>\n",
       "      <td>01 TO 05</td>\n",
       "      <td>60.3</td>\n",
       "      <td>Standard</td>\n",
       "      <td>1967</td>\n",
       "      <td>299000.0</td>\n",
       "    </tr>\n",
       "    <tr>\n",
       "      <th>...</th>\n",
       "      <td>...</td>\n",
       "      <td>...</td>\n",
       "      <td>...</td>\n",
       "      <td>...</td>\n",
       "      <td>...</td>\n",
       "      <td>...</td>\n",
       "      <td>...</td>\n",
       "      <td>...</td>\n",
       "      <td>...</td>\n",
       "    </tr>\n",
       "    <tr>\n",
       "      <th>613</th>\n",
       "      <td>2021-04</td>\n",
       "      <td>5 ROOM</td>\n",
       "      <td>230</td>\n",
       "      <td>LOR 8 TOA PAYOH</td>\n",
       "      <td>01 TO 03</td>\n",
       "      <td>119.0</td>\n",
       "      <td>Standard</td>\n",
       "      <td>1976</td>\n",
       "      <td>430000.0</td>\n",
       "    </tr>\n",
       "    <tr>\n",
       "      <th>614</th>\n",
       "      <td>2021-04</td>\n",
       "      <td>5 ROOM</td>\n",
       "      <td>229</td>\n",
       "      <td>LOR 8 TOA PAYOH</td>\n",
       "      <td>10 TO 12</td>\n",
       "      <td>117.0</td>\n",
       "      <td>Standard</td>\n",
       "      <td>1976</td>\n",
       "      <td>510000.0</td>\n",
       "    </tr>\n",
       "    <tr>\n",
       "      <th>615</th>\n",
       "      <td>2021-04</td>\n",
       "      <td>3 ROOM</td>\n",
       "      <td>6</td>\n",
       "      <td>MARSILING DR</td>\n",
       "      <td>01 TO 03</td>\n",
       "      <td>65.0</td>\n",
       "      <td>Improved</td>\n",
       "      <td>1976</td>\n",
       "      <td>268000.0</td>\n",
       "    </tr>\n",
       "    <tr>\n",
       "      <th>616</th>\n",
       "      <td>2021-04</td>\n",
       "      <td>3 ROOM</td>\n",
       "      <td>13</td>\n",
       "      <td>MARSILING LANE</td>\n",
       "      <td>07 TO 09</td>\n",
       "      <td>76.0</td>\n",
       "      <td>Improved</td>\n",
       "      <td>1976</td>\n",
       "      <td>240000.0</td>\n",
       "    </tr>\n",
       "    <tr>\n",
       "      <th>617</th>\n",
       "      <td>2021-04</td>\n",
       "      <td>4 ROOM</td>\n",
       "      <td>8</td>\n",
       "      <td>MARSILING DR</td>\n",
       "      <td>01 TO 03</td>\n",
       "      <td>88.0</td>\n",
       "      <td>Improved</td>\n",
       "      <td>1976</td>\n",
       "      <td>295000.0</td>\n",
       "    </tr>\n",
       "  </tbody>\n",
       "</table>\n",
       "<p>15000 rows × 9 columns</p>\n",
       "</div>"
      ],
      "text/plain": [
       "    Tranc_YearMonth flat_type block      street_name storey_range  \\\n",
       "0           2012-03    3 ROOM    21         BALAM RD     01 TO 05   \n",
       "1           2012-03    3 ROOM    19         BALAM RD     06 TO 10   \n",
       "2           2012-03    3 ROOM    23         BALAM RD     01 TO 05   \n",
       "3           2012-03    3 ROOM    19         BALAM RD     01 TO 05   \n",
       "4           2012-03    3 ROOM    20         BALAM RD     01 TO 05   \n",
       "..              ...       ...   ...              ...          ...   \n",
       "613         2021-04    5 ROOM   230  LOR 8 TOA PAYOH     01 TO 03   \n",
       "614         2021-04    5 ROOM   229  LOR 8 TOA PAYOH     10 TO 12   \n",
       "615         2021-04    3 ROOM     6     MARSILING DR     01 TO 03   \n",
       "616         2021-04    3 ROOM    13   MARSILING LANE     07 TO 09   \n",
       "617         2021-04    4 ROOM     8     MARSILING DR     01 TO 03   \n",
       "\n",
       "     floor_area_sqm flat_model  lease_commence_date  resale_price  \n",
       "0              60.0   Standard                 1967      276500.0  \n",
       "1              60.3   Standard                 1967      285000.0  \n",
       "2              60.3   Standard                 1967      290000.0  \n",
       "3              60.3   Standard                 1967      295000.0  \n",
       "4              60.3   Standard                 1967      299000.0  \n",
       "..              ...        ...                  ...           ...  \n",
       "613           119.0   Standard                 1976      430000.0  \n",
       "614           117.0   Standard                 1976      510000.0  \n",
       "615            65.0   Improved                 1976      268000.0  \n",
       "616            76.0   Improved                 1976      240000.0  \n",
       "617            88.0   Improved                 1976      295000.0  \n",
       "\n",
       "[15000 rows x 9 columns]"
      ]
     },
     "execution_count": 30,
     "metadata": {},
     "output_type": "execute_result"
    }
   ],
   "source": [
    "concatdf #notice the index is off because it follows respective dataframes index"
   ]
  },
  {
   "cell_type": "code",
   "execution_count": 31,
   "metadata": {},
   "outputs": [],
   "source": [
    "concatdf = concatdf.reset_index(drop=True) #reset index, drop=True will drop current index otherwise, it will appear as new field"
   ]
  },
  {
   "cell_type": "code",
   "execution_count": 32,
   "metadata": {
    "scrolled": true
   },
   "outputs": [
    {
     "data": {
      "text/html": [
       "<div>\n",
       "<style scoped>\n",
       "    .dataframe tbody tr th:only-of-type {\n",
       "        vertical-align: middle;\n",
       "    }\n",
       "\n",
       "    .dataframe tbody tr th {\n",
       "        vertical-align: top;\n",
       "    }\n",
       "\n",
       "    .dataframe thead th {\n",
       "        text-align: right;\n",
       "    }\n",
       "</style>\n",
       "<table border=\"1\" class=\"dataframe\">\n",
       "  <thead>\n",
       "    <tr style=\"text-align: right;\">\n",
       "      <th></th>\n",
       "      <th>Tranc_YearMonth</th>\n",
       "      <th>flat_type</th>\n",
       "      <th>block</th>\n",
       "      <th>street_name</th>\n",
       "      <th>storey_range</th>\n",
       "      <th>floor_area_sqm</th>\n",
       "      <th>flat_model</th>\n",
       "      <th>lease_commence_date</th>\n",
       "      <th>resale_price</th>\n",
       "    </tr>\n",
       "  </thead>\n",
       "  <tbody>\n",
       "    <tr>\n",
       "      <th>0</th>\n",
       "      <td>2012-03</td>\n",
       "      <td>3 ROOM</td>\n",
       "      <td>21</td>\n",
       "      <td>BALAM RD</td>\n",
       "      <td>01 TO 05</td>\n",
       "      <td>60.0</td>\n",
       "      <td>Standard</td>\n",
       "      <td>1967</td>\n",
       "      <td>276500.0</td>\n",
       "    </tr>\n",
       "    <tr>\n",
       "      <th>1</th>\n",
       "      <td>2012-03</td>\n",
       "      <td>3 ROOM</td>\n",
       "      <td>19</td>\n",
       "      <td>BALAM RD</td>\n",
       "      <td>06 TO 10</td>\n",
       "      <td>60.3</td>\n",
       "      <td>Standard</td>\n",
       "      <td>1967</td>\n",
       "      <td>285000.0</td>\n",
       "    </tr>\n",
       "    <tr>\n",
       "      <th>2</th>\n",
       "      <td>2012-03</td>\n",
       "      <td>3 ROOM</td>\n",
       "      <td>23</td>\n",
       "      <td>BALAM RD</td>\n",
       "      <td>01 TO 05</td>\n",
       "      <td>60.3</td>\n",
       "      <td>Standard</td>\n",
       "      <td>1967</td>\n",
       "      <td>290000.0</td>\n",
       "    </tr>\n",
       "    <tr>\n",
       "      <th>3</th>\n",
       "      <td>2012-03</td>\n",
       "      <td>3 ROOM</td>\n",
       "      <td>19</td>\n",
       "      <td>BALAM RD</td>\n",
       "      <td>01 TO 05</td>\n",
       "      <td>60.3</td>\n",
       "      <td>Standard</td>\n",
       "      <td>1967</td>\n",
       "      <td>295000.0</td>\n",
       "    </tr>\n",
       "    <tr>\n",
       "      <th>4</th>\n",
       "      <td>2012-03</td>\n",
       "      <td>3 ROOM</td>\n",
       "      <td>20</td>\n",
       "      <td>BALAM RD</td>\n",
       "      <td>01 TO 05</td>\n",
       "      <td>60.3</td>\n",
       "      <td>Standard</td>\n",
       "      <td>1967</td>\n",
       "      <td>299000.0</td>\n",
       "    </tr>\n",
       "    <tr>\n",
       "      <th>...</th>\n",
       "      <td>...</td>\n",
       "      <td>...</td>\n",
       "      <td>...</td>\n",
       "      <td>...</td>\n",
       "      <td>...</td>\n",
       "      <td>...</td>\n",
       "      <td>...</td>\n",
       "      <td>...</td>\n",
       "      <td>...</td>\n",
       "    </tr>\n",
       "    <tr>\n",
       "      <th>14995</th>\n",
       "      <td>2021-04</td>\n",
       "      <td>5 ROOM</td>\n",
       "      <td>230</td>\n",
       "      <td>LOR 8 TOA PAYOH</td>\n",
       "      <td>01 TO 03</td>\n",
       "      <td>119.0</td>\n",
       "      <td>Standard</td>\n",
       "      <td>1976</td>\n",
       "      <td>430000.0</td>\n",
       "    </tr>\n",
       "    <tr>\n",
       "      <th>14996</th>\n",
       "      <td>2021-04</td>\n",
       "      <td>5 ROOM</td>\n",
       "      <td>229</td>\n",
       "      <td>LOR 8 TOA PAYOH</td>\n",
       "      <td>10 TO 12</td>\n",
       "      <td>117.0</td>\n",
       "      <td>Standard</td>\n",
       "      <td>1976</td>\n",
       "      <td>510000.0</td>\n",
       "    </tr>\n",
       "    <tr>\n",
       "      <th>14997</th>\n",
       "      <td>2021-04</td>\n",
       "      <td>3 ROOM</td>\n",
       "      <td>6</td>\n",
       "      <td>MARSILING DR</td>\n",
       "      <td>01 TO 03</td>\n",
       "      <td>65.0</td>\n",
       "      <td>Improved</td>\n",
       "      <td>1976</td>\n",
       "      <td>268000.0</td>\n",
       "    </tr>\n",
       "    <tr>\n",
       "      <th>14998</th>\n",
       "      <td>2021-04</td>\n",
       "      <td>3 ROOM</td>\n",
       "      <td>13</td>\n",
       "      <td>MARSILING LANE</td>\n",
       "      <td>07 TO 09</td>\n",
       "      <td>76.0</td>\n",
       "      <td>Improved</td>\n",
       "      <td>1976</td>\n",
       "      <td>240000.0</td>\n",
       "    </tr>\n",
       "    <tr>\n",
       "      <th>14999</th>\n",
       "      <td>2021-04</td>\n",
       "      <td>4 ROOM</td>\n",
       "      <td>8</td>\n",
       "      <td>MARSILING DR</td>\n",
       "      <td>01 TO 03</td>\n",
       "      <td>88.0</td>\n",
       "      <td>Improved</td>\n",
       "      <td>1976</td>\n",
       "      <td>295000.0</td>\n",
       "    </tr>\n",
       "  </tbody>\n",
       "</table>\n",
       "<p>15000 rows × 9 columns</p>\n",
       "</div>"
      ],
      "text/plain": [
       "      Tranc_YearMonth flat_type block      street_name storey_range  \\\n",
       "0             2012-03    3 ROOM    21         BALAM RD     01 TO 05   \n",
       "1             2012-03    3 ROOM    19         BALAM RD     06 TO 10   \n",
       "2             2012-03    3 ROOM    23         BALAM RD     01 TO 05   \n",
       "3             2012-03    3 ROOM    19         BALAM RD     01 TO 05   \n",
       "4             2012-03    3 ROOM    20         BALAM RD     01 TO 05   \n",
       "...               ...       ...   ...              ...          ...   \n",
       "14995         2021-04    5 ROOM   230  LOR 8 TOA PAYOH     01 TO 03   \n",
       "14996         2021-04    5 ROOM   229  LOR 8 TOA PAYOH     10 TO 12   \n",
       "14997         2021-04    3 ROOM     6     MARSILING DR     01 TO 03   \n",
       "14998         2021-04    3 ROOM    13   MARSILING LANE     07 TO 09   \n",
       "14999         2021-04    4 ROOM     8     MARSILING DR     01 TO 03   \n",
       "\n",
       "       floor_area_sqm flat_model  lease_commence_date  resale_price  \n",
       "0                60.0   Standard                 1967      276500.0  \n",
       "1                60.3   Standard                 1967      285000.0  \n",
       "2                60.3   Standard                 1967      290000.0  \n",
       "3                60.3   Standard                 1967      295000.0  \n",
       "4                60.3   Standard                 1967      299000.0  \n",
       "...               ...        ...                  ...           ...  \n",
       "14995           119.0   Standard                 1976      430000.0  \n",
       "14996           117.0   Standard                 1976      510000.0  \n",
       "14997            65.0   Improved                 1976      268000.0  \n",
       "14998            76.0   Improved                 1976      240000.0  \n",
       "14999            88.0   Improved                 1976      295000.0  \n",
       "\n",
       "[15000 rows x 9 columns]"
      ]
     },
     "execution_count": 32,
     "metadata": {},
     "output_type": "execute_result"
    }
   ],
   "source": [
    "concatdf"
   ]
  },
  {
   "cell_type": "markdown",
   "metadata": {},
   "source": [
    "> Joining DataFrames"
   ]
  },
  {
   "cell_type": "code",
   "execution_count": 33,
   "metadata": {},
   "outputs": [],
   "source": [
    "towns = pd.read_csv('week 9 data/0. Raw Data/sample/hdb_resale_sample_raw_towns.csv') #towns dataframe"
   ]
  },
  {
   "cell_type": "code",
   "execution_count": 34,
   "metadata": {},
   "outputs": [
    {
     "data": {
      "text/html": [
       "<div>\n",
       "<style scoped>\n",
       "    .dataframe tbody tr th:only-of-type {\n",
       "        vertical-align: middle;\n",
       "    }\n",
       "\n",
       "    .dataframe tbody tr th {\n",
       "        vertical-align: top;\n",
       "    }\n",
       "\n",
       "    .dataframe thead th {\n",
       "        text-align: right;\n",
       "    }\n",
       "</style>\n",
       "<table border=\"1\" class=\"dataframe\">\n",
       "  <thead>\n",
       "    <tr style=\"text-align: right;\">\n",
       "      <th></th>\n",
       "      <th>town</th>\n",
       "      <th>street_name</th>\n",
       "    </tr>\n",
       "  </thead>\n",
       "  <tbody>\n",
       "    <tr>\n",
       "      <th>0</th>\n",
       "      <td>JURONG EAST</td>\n",
       "      <td>TEBAN GDNS RD</td>\n",
       "    </tr>\n",
       "    <tr>\n",
       "      <th>1</th>\n",
       "      <td>GEYLANG</td>\n",
       "      <td>BALAM RD</td>\n",
       "    </tr>\n",
       "    <tr>\n",
       "      <th>2</th>\n",
       "      <td>QUEENSTOWN</td>\n",
       "      <td>C'WEALTH CL</td>\n",
       "    </tr>\n",
       "    <tr>\n",
       "      <th>3</th>\n",
       "      <td>QUEENSTOWN</td>\n",
       "      <td>C'WEALTH DR</td>\n",
       "    </tr>\n",
       "    <tr>\n",
       "      <th>4</th>\n",
       "      <td>TOA PAYOH</td>\n",
       "      <td>LOR 1 TOA PAYOH</td>\n",
       "    </tr>\n",
       "  </tbody>\n",
       "</table>\n",
       "</div>"
      ],
      "text/plain": [
       "          town      street_name\n",
       "0  JURONG EAST    TEBAN GDNS RD\n",
       "1      GEYLANG         BALAM RD\n",
       "2   QUEENSTOWN      C'WEALTH CL\n",
       "3   QUEENSTOWN      C'WEALTH DR\n",
       "4    TOA PAYOH  LOR 1 TOA PAYOH"
      ]
     },
     "execution_count": 34,
     "metadata": {},
     "output_type": "execute_result"
    }
   ],
   "source": [
    "towns.head()"
   ]
  },
  {
   "cell_type": "code",
   "execution_count": 73,
   "metadata": {},
   "outputs": [],
   "source": [
    "joineddf = pd.merge(concatdf, towns, how='left', on='street_name') #joined dataframe"
   ]
  },
  {
   "cell_type": "code",
   "execution_count": 74,
   "metadata": {},
   "outputs": [
    {
     "data": {
      "text/plain": [
       "(15000, 10)"
      ]
     },
     "execution_count": 74,
     "metadata": {},
     "output_type": "execute_result"
    }
   ],
   "source": [
    "joineddf.shape"
   ]
  },
  {
   "cell_type": "code",
   "execution_count": 39,
   "metadata": {},
   "outputs": [
    {
     "data": {
      "text/html": [
       "<div>\n",
       "<style scoped>\n",
       "    .dataframe tbody tr th:only-of-type {\n",
       "        vertical-align: middle;\n",
       "    }\n",
       "\n",
       "    .dataframe tbody tr th {\n",
       "        vertical-align: top;\n",
       "    }\n",
       "\n",
       "    .dataframe thead th {\n",
       "        text-align: right;\n",
       "    }\n",
       "</style>\n",
       "<table border=\"1\" class=\"dataframe\">\n",
       "  <thead>\n",
       "    <tr style=\"text-align: right;\">\n",
       "      <th></th>\n",
       "      <th>Tranc_YearMonth</th>\n",
       "      <th>flat_type</th>\n",
       "      <th>block</th>\n",
       "      <th>street_name</th>\n",
       "      <th>storey_range</th>\n",
       "      <th>floor_area_sqm</th>\n",
       "      <th>flat_model</th>\n",
       "      <th>lease_commence_date</th>\n",
       "      <th>resale_price</th>\n",
       "      <th>town</th>\n",
       "    </tr>\n",
       "  </thead>\n",
       "  <tbody>\n",
       "    <tr>\n",
       "      <th>0</th>\n",
       "      <td>2012-03</td>\n",
       "      <td>3 ROOM</td>\n",
       "      <td>21</td>\n",
       "      <td>BALAM RD</td>\n",
       "      <td>01 TO 05</td>\n",
       "      <td>60.0</td>\n",
       "      <td>Standard</td>\n",
       "      <td>1967</td>\n",
       "      <td>276500.0</td>\n",
       "      <td>GEYLANG</td>\n",
       "    </tr>\n",
       "    <tr>\n",
       "      <th>1</th>\n",
       "      <td>2012-03</td>\n",
       "      <td>3 ROOM</td>\n",
       "      <td>19</td>\n",
       "      <td>BALAM RD</td>\n",
       "      <td>06 TO 10</td>\n",
       "      <td>60.3</td>\n",
       "      <td>Standard</td>\n",
       "      <td>1967</td>\n",
       "      <td>285000.0</td>\n",
       "      <td>GEYLANG</td>\n",
       "    </tr>\n",
       "    <tr>\n",
       "      <th>2</th>\n",
       "      <td>2012-03</td>\n",
       "      <td>3 ROOM</td>\n",
       "      <td>23</td>\n",
       "      <td>BALAM RD</td>\n",
       "      <td>01 TO 05</td>\n",
       "      <td>60.3</td>\n",
       "      <td>Standard</td>\n",
       "      <td>1967</td>\n",
       "      <td>290000.0</td>\n",
       "      <td>GEYLANG</td>\n",
       "    </tr>\n",
       "    <tr>\n",
       "      <th>3</th>\n",
       "      <td>2012-03</td>\n",
       "      <td>3 ROOM</td>\n",
       "      <td>19</td>\n",
       "      <td>BALAM RD</td>\n",
       "      <td>01 TO 05</td>\n",
       "      <td>60.3</td>\n",
       "      <td>Standard</td>\n",
       "      <td>1967</td>\n",
       "      <td>295000.0</td>\n",
       "      <td>GEYLANG</td>\n",
       "    </tr>\n",
       "    <tr>\n",
       "      <th>4</th>\n",
       "      <td>2012-03</td>\n",
       "      <td>3 ROOM</td>\n",
       "      <td>20</td>\n",
       "      <td>BALAM RD</td>\n",
       "      <td>01 TO 05</td>\n",
       "      <td>60.3</td>\n",
       "      <td>Standard</td>\n",
       "      <td>1967</td>\n",
       "      <td>299000.0</td>\n",
       "      <td>GEYLANG</td>\n",
       "    </tr>\n",
       "  </tbody>\n",
       "</table>\n",
       "</div>"
      ],
      "text/plain": [
       "  Tranc_YearMonth flat_type block street_name storey_range  floor_area_sqm  \\\n",
       "0         2012-03    3 ROOM    21    BALAM RD     01 TO 05            60.0   \n",
       "1         2012-03    3 ROOM    19    BALAM RD     06 TO 10            60.3   \n",
       "2         2012-03    3 ROOM    23    BALAM RD     01 TO 05            60.3   \n",
       "3         2012-03    3 ROOM    19    BALAM RD     01 TO 05            60.3   \n",
       "4         2012-03    3 ROOM    20    BALAM RD     01 TO 05            60.3   \n",
       "\n",
       "  flat_model  lease_commence_date  resale_price     town  \n",
       "0   Standard                 1967      276500.0  GEYLANG  \n",
       "1   Standard                 1967      285000.0  GEYLANG  \n",
       "2   Standard                 1967      290000.0  GEYLANG  \n",
       "3   Standard                 1967      295000.0  GEYLANG  \n",
       "4   Standard                 1967      299000.0  GEYLANG  "
      ]
     },
     "execution_count": 39,
     "metadata": {},
     "output_type": "execute_result"
    }
   ],
   "source": [
    "joineddf.head()"
   ]
  },
  {
   "cell_type": "code",
   "execution_count": 41,
   "metadata": {},
   "outputs": [
    {
     "data": {
      "text/plain": [
       "Index(['Tranc_YearMonth', 'flat_type', 'block', 'street_name', 'storey_range',\n",
       "       'floor_area_sqm', 'flat_model', 'lease_commence_date', 'resale_price',\n",
       "       'town'],\n",
       "      dtype='object')"
      ]
     },
     "execution_count": 41,
     "metadata": {},
     "output_type": "execute_result"
    }
   ],
   "source": [
    "joineddf.columns"
   ]
  },
  {
   "cell_type": "code",
   "execution_count": null,
   "metadata": {},
   "outputs": [],
   "source": [
    "joineddf = joineddf[['Tranc_YearMonth', 'town', 'flat_type', 'block', 'street_name', 'storey_range',\n",
    "       'floor_area_sqm', 'flat_model', 'lease_commence_date', 'resale_price',\n",
    "       ]]"
   ]
  },
  {
   "cell_type": "markdown",
   "metadata": {},
   "source": [
    "> Applying Function"
   ]
  },
  {
   "cell_type": "code",
   "execution_count": 42,
   "metadata": {},
   "outputs": [],
   "source": [
    "import numpy as np"
   ]
  },
  {
   "cell_type": "code",
   "execution_count": null,
   "metadata": {},
   "outputs": [],
   "source": [
    "np.sum()\n",
    "np.sqrt()\n",
    "np.mean()"
   ]
  },
  {
   "cell_type": "code",
   "execution_count": 44,
   "metadata": {},
   "outputs": [
    {
     "data": {
      "text/plain": [
       "Tranc_YearMonth         object\n",
       "flat_type               object\n",
       "block                   object\n",
       "street_name             object\n",
       "storey_range            object\n",
       "floor_area_sqm         float64\n",
       "flat_model              object\n",
       "lease_commence_date      int64\n",
       "resale_price           float64\n",
       "town                    object\n",
       "dtype: object"
      ]
     },
     "execution_count": 44,
     "metadata": {},
     "output_type": "execute_result"
    }
   ],
   "source": [
    "joineddf.apply(np.dtype) #default axis=0, applying function to all columns"
   ]
  },
  {
   "cell_type": "code",
   "execution_count": 45,
   "metadata": {},
   "outputs": [
    {
     "name": "stdout",
     "output_type": "stream",
     "text": [
      "<class 'pandas.core.frame.DataFrame'>\n",
      "Int64Index: 15000 entries, 0 to 14999\n",
      "Data columns (total 10 columns):\n",
      " #   Column               Non-Null Count  Dtype  \n",
      "---  ------               --------------  -----  \n",
      " 0   Tranc_YearMonth      15000 non-null  object \n",
      " 1   flat_type            15000 non-null  object \n",
      " 2   block                15000 non-null  object \n",
      " 3   street_name          15000 non-null  object \n",
      " 4   storey_range         15000 non-null  object \n",
      " 5   floor_area_sqm       15000 non-null  float64\n",
      " 6   flat_model           15000 non-null  object \n",
      " 7   lease_commence_date  15000 non-null  int64  \n",
      " 8   resale_price         15000 non-null  float64\n",
      " 9   town                 14429 non-null  object \n",
      "dtypes: float64(2), int64(1), object(7)\n",
      "memory usage: 1.3+ MB\n"
     ]
    }
   ],
   "source": [
    "joineddf.info()"
   ]
  },
  {
   "cell_type": "code",
   "execution_count": 46,
   "metadata": {},
   "outputs": [
    {
     "data": {
      "text/html": [
       "<div>\n",
       "<style scoped>\n",
       "    .dataframe tbody tr th:only-of-type {\n",
       "        vertical-align: middle;\n",
       "    }\n",
       "\n",
       "    .dataframe tbody tr th {\n",
       "        vertical-align: top;\n",
       "    }\n",
       "\n",
       "    .dataframe thead th {\n",
       "        text-align: right;\n",
       "    }\n",
       "</style>\n",
       "<table border=\"1\" class=\"dataframe\">\n",
       "  <thead>\n",
       "    <tr style=\"text-align: right;\">\n",
       "      <th></th>\n",
       "      <th>Tranc_YearMonth</th>\n",
       "      <th>flat_type</th>\n",
       "      <th>block</th>\n",
       "      <th>street_name</th>\n",
       "      <th>storey_range</th>\n",
       "      <th>floor_area_sqm</th>\n",
       "      <th>flat_model</th>\n",
       "      <th>lease_commence_date</th>\n",
       "      <th>resale_price</th>\n",
       "      <th>town</th>\n",
       "    </tr>\n",
       "  </thead>\n",
       "  <tbody>\n",
       "    <tr>\n",
       "      <th>0</th>\n",
       "      <td>2012-03</td>\n",
       "      <td>3 ROOM</td>\n",
       "      <td>21</td>\n",
       "      <td>BALAM RD</td>\n",
       "      <td>01 TO 05</td>\n",
       "      <td>60.0</td>\n",
       "      <td>Standard</td>\n",
       "      <td>1967</td>\n",
       "      <td>276500.0</td>\n",
       "      <td>GEYLANG</td>\n",
       "    </tr>\n",
       "    <tr>\n",
       "      <th>1</th>\n",
       "      <td>2012-03</td>\n",
       "      <td>3 ROOM</td>\n",
       "      <td>19</td>\n",
       "      <td>BALAM RD</td>\n",
       "      <td>06 TO 10</td>\n",
       "      <td>60.3</td>\n",
       "      <td>Standard</td>\n",
       "      <td>1967</td>\n",
       "      <td>285000.0</td>\n",
       "      <td>GEYLANG</td>\n",
       "    </tr>\n",
       "    <tr>\n",
       "      <th>2</th>\n",
       "      <td>2012-03</td>\n",
       "      <td>3 ROOM</td>\n",
       "      <td>23</td>\n",
       "      <td>BALAM RD</td>\n",
       "      <td>01 TO 05</td>\n",
       "      <td>60.3</td>\n",
       "      <td>Standard</td>\n",
       "      <td>1967</td>\n",
       "      <td>290000.0</td>\n",
       "      <td>GEYLANG</td>\n",
       "    </tr>\n",
       "    <tr>\n",
       "      <th>3</th>\n",
       "      <td>2012-03</td>\n",
       "      <td>3 ROOM</td>\n",
       "      <td>19</td>\n",
       "      <td>BALAM RD</td>\n",
       "      <td>01 TO 05</td>\n",
       "      <td>60.3</td>\n",
       "      <td>Standard</td>\n",
       "      <td>1967</td>\n",
       "      <td>295000.0</td>\n",
       "      <td>GEYLANG</td>\n",
       "    </tr>\n",
       "    <tr>\n",
       "      <th>4</th>\n",
       "      <td>2012-03</td>\n",
       "      <td>3 ROOM</td>\n",
       "      <td>20</td>\n",
       "      <td>BALAM RD</td>\n",
       "      <td>01 TO 05</td>\n",
       "      <td>60.3</td>\n",
       "      <td>Standard</td>\n",
       "      <td>1967</td>\n",
       "      <td>299000.0</td>\n",
       "      <td>GEYLANG</td>\n",
       "    </tr>\n",
       "  </tbody>\n",
       "</table>\n",
       "</div>"
      ],
      "text/plain": [
       "  Tranc_YearMonth flat_type block street_name storey_range  floor_area_sqm  \\\n",
       "0         2012-03    3 ROOM    21    BALAM RD     01 TO 05            60.0   \n",
       "1         2012-03    3 ROOM    19    BALAM RD     06 TO 10            60.3   \n",
       "2         2012-03    3 ROOM    23    BALAM RD     01 TO 05            60.3   \n",
       "3         2012-03    3 ROOM    19    BALAM RD     01 TO 05            60.3   \n",
       "4         2012-03    3 ROOM    20    BALAM RD     01 TO 05            60.3   \n",
       "\n",
       "  flat_model  lease_commence_date  resale_price     town  \n",
       "0   Standard                 1967      276500.0  GEYLANG  \n",
       "1   Standard                 1967      285000.0  GEYLANG  \n",
       "2   Standard                 1967      290000.0  GEYLANG  \n",
       "3   Standard                 1967      295000.0  GEYLANG  \n",
       "4   Standard                 1967      299000.0  GEYLANG  "
      ]
     },
     "execution_count": 46,
     "metadata": {},
     "output_type": "execute_result"
    }
   ],
   "source": [
    "joineddf.head(5)"
   ]
  },
  {
   "cell_type": "code",
   "execution_count": 47,
   "metadata": {},
   "outputs": [
    {
     "data": {
      "text/plain": [
       "'3 ROOM Standard'"
      ]
     },
     "execution_count": 47,
     "metadata": {},
     "output_type": "execute_result"
    }
   ],
   "source": [
    "a = \"3 ROOM\"\n",
    "b = \"Standard\"\n",
    "\n",
    "a + \" \" + b"
   ]
  },
  {
   "cell_type": "code",
   "execution_count": 48,
   "metadata": {},
   "outputs": [],
   "source": [
    "#Function for row data\n",
    "def getHDBFullType(row):\n",
    "    return row['flat_type'] + ' ' + row['flat_model']"
   ]
  },
  {
   "cell_type": "code",
   "execution_count": 49,
   "metadata": {},
   "outputs": [
    {
     "data": {
      "text/plain": [
       "0        3 ROOM Standard\n",
       "1        3 ROOM Standard\n",
       "2        3 ROOM Standard\n",
       "3        3 ROOM Standard\n",
       "4        3 ROOM Standard\n",
       "              ...       \n",
       "14995    5 ROOM Standard\n",
       "14996    5 ROOM Standard\n",
       "14997    3 ROOM Improved\n",
       "14998    3 ROOM Improved\n",
       "14999    4 ROOM Improved\n",
       "Length: 15000, dtype: object"
      ]
     },
     "execution_count": 49,
     "metadata": {},
     "output_type": "execute_result"
    }
   ],
   "source": [
    "joineddf.apply(getHDBFullType, axis=1) #applying function to all rows"
   ]
  },
  {
   "cell_type": "code",
   "execution_count": 75,
   "metadata": {},
   "outputs": [],
   "source": [
    "joineddf['full_flat_type'] = joineddf.apply(getHDBFullType, axis=1) #assign as new column"
   ]
  },
  {
   "cell_type": "code",
   "execution_count": 51,
   "metadata": {},
   "outputs": [
    {
     "data": {
      "text/html": [
       "<div>\n",
       "<style scoped>\n",
       "    .dataframe tbody tr th:only-of-type {\n",
       "        vertical-align: middle;\n",
       "    }\n",
       "\n",
       "    .dataframe tbody tr th {\n",
       "        vertical-align: top;\n",
       "    }\n",
       "\n",
       "    .dataframe thead th {\n",
       "        text-align: right;\n",
       "    }\n",
       "</style>\n",
       "<table border=\"1\" class=\"dataframe\">\n",
       "  <thead>\n",
       "    <tr style=\"text-align: right;\">\n",
       "      <th></th>\n",
       "      <th>Tranc_YearMonth</th>\n",
       "      <th>flat_type</th>\n",
       "      <th>block</th>\n",
       "      <th>street_name</th>\n",
       "      <th>storey_range</th>\n",
       "      <th>floor_area_sqm</th>\n",
       "      <th>flat_model</th>\n",
       "      <th>lease_commence_date</th>\n",
       "      <th>resale_price</th>\n",
       "      <th>town</th>\n",
       "      <th>full_flat_type</th>\n",
       "    </tr>\n",
       "  </thead>\n",
       "  <tbody>\n",
       "    <tr>\n",
       "      <th>0</th>\n",
       "      <td>2012-03</td>\n",
       "      <td>3 ROOM</td>\n",
       "      <td>21</td>\n",
       "      <td>BALAM RD</td>\n",
       "      <td>01 TO 05</td>\n",
       "      <td>60.0</td>\n",
       "      <td>Standard</td>\n",
       "      <td>1967</td>\n",
       "      <td>276500.0</td>\n",
       "      <td>GEYLANG</td>\n",
       "      <td>3 ROOM Standard</td>\n",
       "    </tr>\n",
       "    <tr>\n",
       "      <th>1</th>\n",
       "      <td>2012-03</td>\n",
       "      <td>3 ROOM</td>\n",
       "      <td>19</td>\n",
       "      <td>BALAM RD</td>\n",
       "      <td>06 TO 10</td>\n",
       "      <td>60.3</td>\n",
       "      <td>Standard</td>\n",
       "      <td>1967</td>\n",
       "      <td>285000.0</td>\n",
       "      <td>GEYLANG</td>\n",
       "      <td>3 ROOM Standard</td>\n",
       "    </tr>\n",
       "    <tr>\n",
       "      <th>2</th>\n",
       "      <td>2012-03</td>\n",
       "      <td>3 ROOM</td>\n",
       "      <td>23</td>\n",
       "      <td>BALAM RD</td>\n",
       "      <td>01 TO 05</td>\n",
       "      <td>60.3</td>\n",
       "      <td>Standard</td>\n",
       "      <td>1967</td>\n",
       "      <td>290000.0</td>\n",
       "      <td>GEYLANG</td>\n",
       "      <td>3 ROOM Standard</td>\n",
       "    </tr>\n",
       "    <tr>\n",
       "      <th>3</th>\n",
       "      <td>2012-03</td>\n",
       "      <td>3 ROOM</td>\n",
       "      <td>19</td>\n",
       "      <td>BALAM RD</td>\n",
       "      <td>01 TO 05</td>\n",
       "      <td>60.3</td>\n",
       "      <td>Standard</td>\n",
       "      <td>1967</td>\n",
       "      <td>295000.0</td>\n",
       "      <td>GEYLANG</td>\n",
       "      <td>3 ROOM Standard</td>\n",
       "    </tr>\n",
       "    <tr>\n",
       "      <th>4</th>\n",
       "      <td>2012-03</td>\n",
       "      <td>3 ROOM</td>\n",
       "      <td>20</td>\n",
       "      <td>BALAM RD</td>\n",
       "      <td>01 TO 05</td>\n",
       "      <td>60.3</td>\n",
       "      <td>Standard</td>\n",
       "      <td>1967</td>\n",
       "      <td>299000.0</td>\n",
       "      <td>GEYLANG</td>\n",
       "      <td>3 ROOM Standard</td>\n",
       "    </tr>\n",
       "    <tr>\n",
       "      <th>...</th>\n",
       "      <td>...</td>\n",
       "      <td>...</td>\n",
       "      <td>...</td>\n",
       "      <td>...</td>\n",
       "      <td>...</td>\n",
       "      <td>...</td>\n",
       "      <td>...</td>\n",
       "      <td>...</td>\n",
       "      <td>...</td>\n",
       "      <td>...</td>\n",
       "      <td>...</td>\n",
       "    </tr>\n",
       "    <tr>\n",
       "      <th>14995</th>\n",
       "      <td>2021-04</td>\n",
       "      <td>5 ROOM</td>\n",
       "      <td>230</td>\n",
       "      <td>LOR 8 TOA PAYOH</td>\n",
       "      <td>01 TO 03</td>\n",
       "      <td>119.0</td>\n",
       "      <td>Standard</td>\n",
       "      <td>1976</td>\n",
       "      <td>430000.0</td>\n",
       "      <td>TOA PAYOH</td>\n",
       "      <td>5 ROOM Standard</td>\n",
       "    </tr>\n",
       "    <tr>\n",
       "      <th>14996</th>\n",
       "      <td>2021-04</td>\n",
       "      <td>5 ROOM</td>\n",
       "      <td>229</td>\n",
       "      <td>LOR 8 TOA PAYOH</td>\n",
       "      <td>10 TO 12</td>\n",
       "      <td>117.0</td>\n",
       "      <td>Standard</td>\n",
       "      <td>1976</td>\n",
       "      <td>510000.0</td>\n",
       "      <td>TOA PAYOH</td>\n",
       "      <td>5 ROOM Standard</td>\n",
       "    </tr>\n",
       "    <tr>\n",
       "      <th>14997</th>\n",
       "      <td>2021-04</td>\n",
       "      <td>3 ROOM</td>\n",
       "      <td>6</td>\n",
       "      <td>MARSILING DR</td>\n",
       "      <td>01 TO 03</td>\n",
       "      <td>65.0</td>\n",
       "      <td>Improved</td>\n",
       "      <td>1976</td>\n",
       "      <td>268000.0</td>\n",
       "      <td>WOODLANDS</td>\n",
       "      <td>3 ROOM Improved</td>\n",
       "    </tr>\n",
       "    <tr>\n",
       "      <th>14998</th>\n",
       "      <td>2021-04</td>\n",
       "      <td>3 ROOM</td>\n",
       "      <td>13</td>\n",
       "      <td>MARSILING LANE</td>\n",
       "      <td>07 TO 09</td>\n",
       "      <td>76.0</td>\n",
       "      <td>Improved</td>\n",
       "      <td>1976</td>\n",
       "      <td>240000.0</td>\n",
       "      <td>WOODLANDS</td>\n",
       "      <td>3 ROOM Improved</td>\n",
       "    </tr>\n",
       "    <tr>\n",
       "      <th>14999</th>\n",
       "      <td>2021-04</td>\n",
       "      <td>4 ROOM</td>\n",
       "      <td>8</td>\n",
       "      <td>MARSILING DR</td>\n",
       "      <td>01 TO 03</td>\n",
       "      <td>88.0</td>\n",
       "      <td>Improved</td>\n",
       "      <td>1976</td>\n",
       "      <td>295000.0</td>\n",
       "      <td>WOODLANDS</td>\n",
       "      <td>4 ROOM Improved</td>\n",
       "    </tr>\n",
       "  </tbody>\n",
       "</table>\n",
       "<p>15000 rows × 11 columns</p>\n",
       "</div>"
      ],
      "text/plain": [
       "      Tranc_YearMonth flat_type block      street_name storey_range  \\\n",
       "0             2012-03    3 ROOM    21         BALAM RD     01 TO 05   \n",
       "1             2012-03    3 ROOM    19         BALAM RD     06 TO 10   \n",
       "2             2012-03    3 ROOM    23         BALAM RD     01 TO 05   \n",
       "3             2012-03    3 ROOM    19         BALAM RD     01 TO 05   \n",
       "4             2012-03    3 ROOM    20         BALAM RD     01 TO 05   \n",
       "...               ...       ...   ...              ...          ...   \n",
       "14995         2021-04    5 ROOM   230  LOR 8 TOA PAYOH     01 TO 03   \n",
       "14996         2021-04    5 ROOM   229  LOR 8 TOA PAYOH     10 TO 12   \n",
       "14997         2021-04    3 ROOM     6     MARSILING DR     01 TO 03   \n",
       "14998         2021-04    3 ROOM    13   MARSILING LANE     07 TO 09   \n",
       "14999         2021-04    4 ROOM     8     MARSILING DR     01 TO 03   \n",
       "\n",
       "       floor_area_sqm flat_model  lease_commence_date  resale_price  \\\n",
       "0                60.0   Standard                 1967      276500.0   \n",
       "1                60.3   Standard                 1967      285000.0   \n",
       "2                60.3   Standard                 1967      290000.0   \n",
       "3                60.3   Standard                 1967      295000.0   \n",
       "4                60.3   Standard                 1967      299000.0   \n",
       "...               ...        ...                  ...           ...   \n",
       "14995           119.0   Standard                 1976      430000.0   \n",
       "14996           117.0   Standard                 1976      510000.0   \n",
       "14997            65.0   Improved                 1976      268000.0   \n",
       "14998            76.0   Improved                 1976      240000.0   \n",
       "14999            88.0   Improved                 1976      295000.0   \n",
       "\n",
       "            town   full_flat_type  \n",
       "0        GEYLANG  3 ROOM Standard  \n",
       "1        GEYLANG  3 ROOM Standard  \n",
       "2        GEYLANG  3 ROOM Standard  \n",
       "3        GEYLANG  3 ROOM Standard  \n",
       "4        GEYLANG  3 ROOM Standard  \n",
       "...          ...              ...  \n",
       "14995  TOA PAYOH  5 ROOM Standard  \n",
       "14996  TOA PAYOH  5 ROOM Standard  \n",
       "14997  WOODLANDS  3 ROOM Improved  \n",
       "14998  WOODLANDS  3 ROOM Improved  \n",
       "14999  WOODLANDS  4 ROOM Improved  \n",
       "\n",
       "[15000 rows x 11 columns]"
      ]
     },
     "execution_count": 51,
     "metadata": {},
     "output_type": "execute_result"
    }
   ],
   "source": [
    "joineddf"
   ]
  },
  {
   "cell_type": "code",
   "execution_count": 54,
   "metadata": {},
   "outputs": [
    {
     "name": "stdout",
     "output_type": "stream",
     "text": [
      "2021\n",
      "10\n"
     ]
    }
   ],
   "source": [
    "mystring = '2021-10'\n",
    "print(mystring.split('-')[0])\n",
    "print(mystring.split('-')[1])"
   ]
  },
  {
   "cell_type": "code",
   "execution_count": 76,
   "metadata": {},
   "outputs": [],
   "source": [
    "#Splitting year month\n",
    "def getYear(YearMonth): \n",
    "    return YearMonth.split('-')[0]\n",
    "\n",
    "def getMonth(YearMonth):\n",
    "    return YearMonth.split('-')[1]"
   ]
  },
  {
   "cell_type": "code",
   "execution_count": 85,
   "metadata": {},
   "outputs": [],
   "source": [
    "joineddf['Year'] = joineddf['Tranc_YearMonth'].apply(getYear) # assign as new column"
   ]
  },
  {
   "cell_type": "code",
   "execution_count": 84,
   "metadata": {},
   "outputs": [],
   "source": [
    "joineddf['Month'] = joineddf['Tranc_YearMonth'].apply(getMonth)"
   ]
  },
  {
   "cell_type": "code",
   "execution_count": 86,
   "metadata": {},
   "outputs": [
    {
     "data": {
      "text/html": [
       "<div>\n",
       "<style scoped>\n",
       "    .dataframe tbody tr th:only-of-type {\n",
       "        vertical-align: middle;\n",
       "    }\n",
       "\n",
       "    .dataframe tbody tr th {\n",
       "        vertical-align: top;\n",
       "    }\n",
       "\n",
       "    .dataframe thead th {\n",
       "        text-align: right;\n",
       "    }\n",
       "</style>\n",
       "<table border=\"1\" class=\"dataframe\">\n",
       "  <thead>\n",
       "    <tr style=\"text-align: right;\">\n",
       "      <th></th>\n",
       "      <th>Tranc_YearMonth</th>\n",
       "      <th>flat_type</th>\n",
       "      <th>block</th>\n",
       "      <th>street_name</th>\n",
       "      <th>storey_range</th>\n",
       "      <th>floor_area_sqm</th>\n",
       "      <th>flat_model</th>\n",
       "      <th>lease_commence_date</th>\n",
       "      <th>resale_price</th>\n",
       "      <th>town</th>\n",
       "      <th>full_flat_type</th>\n",
       "      <th>Year</th>\n",
       "      <th>Month</th>\n",
       "    </tr>\n",
       "  </thead>\n",
       "  <tbody>\n",
       "    <tr>\n",
       "      <th>0</th>\n",
       "      <td>2012-03</td>\n",
       "      <td>3 ROOM</td>\n",
       "      <td>21</td>\n",
       "      <td>BALAM RD</td>\n",
       "      <td>01 TO 05</td>\n",
       "      <td>60.0</td>\n",
       "      <td>Standard</td>\n",
       "      <td>1967</td>\n",
       "      <td>276500.0</td>\n",
       "      <td>GEYLANG</td>\n",
       "      <td>3 ROOM Standard</td>\n",
       "      <td>2012</td>\n",
       "      <td>03</td>\n",
       "    </tr>\n",
       "    <tr>\n",
       "      <th>1</th>\n",
       "      <td>2012-03</td>\n",
       "      <td>3 ROOM</td>\n",
       "      <td>19</td>\n",
       "      <td>BALAM RD</td>\n",
       "      <td>06 TO 10</td>\n",
       "      <td>60.3</td>\n",
       "      <td>Standard</td>\n",
       "      <td>1967</td>\n",
       "      <td>285000.0</td>\n",
       "      <td>GEYLANG</td>\n",
       "      <td>3 ROOM Standard</td>\n",
       "      <td>2012</td>\n",
       "      <td>03</td>\n",
       "    </tr>\n",
       "    <tr>\n",
       "      <th>2</th>\n",
       "      <td>2012-03</td>\n",
       "      <td>3 ROOM</td>\n",
       "      <td>23</td>\n",
       "      <td>BALAM RD</td>\n",
       "      <td>01 TO 05</td>\n",
       "      <td>60.3</td>\n",
       "      <td>Standard</td>\n",
       "      <td>1967</td>\n",
       "      <td>290000.0</td>\n",
       "      <td>GEYLANG</td>\n",
       "      <td>3 ROOM Standard</td>\n",
       "      <td>2012</td>\n",
       "      <td>03</td>\n",
       "    </tr>\n",
       "    <tr>\n",
       "      <th>3</th>\n",
       "      <td>2012-03</td>\n",
       "      <td>3 ROOM</td>\n",
       "      <td>19</td>\n",
       "      <td>BALAM RD</td>\n",
       "      <td>01 TO 05</td>\n",
       "      <td>60.3</td>\n",
       "      <td>Standard</td>\n",
       "      <td>1967</td>\n",
       "      <td>295000.0</td>\n",
       "      <td>GEYLANG</td>\n",
       "      <td>3 ROOM Standard</td>\n",
       "      <td>2012</td>\n",
       "      <td>03</td>\n",
       "    </tr>\n",
       "    <tr>\n",
       "      <th>4</th>\n",
       "      <td>2012-03</td>\n",
       "      <td>3 ROOM</td>\n",
       "      <td>20</td>\n",
       "      <td>BALAM RD</td>\n",
       "      <td>01 TO 05</td>\n",
       "      <td>60.3</td>\n",
       "      <td>Standard</td>\n",
       "      <td>1967</td>\n",
       "      <td>299000.0</td>\n",
       "      <td>GEYLANG</td>\n",
       "      <td>3 ROOM Standard</td>\n",
       "      <td>2012</td>\n",
       "      <td>03</td>\n",
       "    </tr>\n",
       "  </tbody>\n",
       "</table>\n",
       "</div>"
      ],
      "text/plain": [
       "  Tranc_YearMonth flat_type block street_name storey_range  floor_area_sqm  \\\n",
       "0         2012-03    3 ROOM    21    BALAM RD     01 TO 05            60.0   \n",
       "1         2012-03    3 ROOM    19    BALAM RD     06 TO 10            60.3   \n",
       "2         2012-03    3 ROOM    23    BALAM RD     01 TO 05            60.3   \n",
       "3         2012-03    3 ROOM    19    BALAM RD     01 TO 05            60.3   \n",
       "4         2012-03    3 ROOM    20    BALAM RD     01 TO 05            60.3   \n",
       "\n",
       "  flat_model  lease_commence_date  resale_price     town   full_flat_type  \\\n",
       "0   Standard                 1967      276500.0  GEYLANG  3 ROOM Standard   \n",
       "1   Standard                 1967      285000.0  GEYLANG  3 ROOM Standard   \n",
       "2   Standard                 1967      290000.0  GEYLANG  3 ROOM Standard   \n",
       "3   Standard                 1967      295000.0  GEYLANG  3 ROOM Standard   \n",
       "4   Standard                 1967      299000.0  GEYLANG  3 ROOM Standard   \n",
       "\n",
       "   Year Month  \n",
       "0  2012    03  \n",
       "1  2012    03  \n",
       "2  2012    03  \n",
       "3  2012    03  \n",
       "4  2012    03  "
      ]
     },
     "execution_count": 86,
     "metadata": {},
     "output_type": "execute_result"
    }
   ],
   "source": [
    "joineddf.head()"
   ]
  },
  {
   "cell_type": "code",
   "execution_count": null,
   "metadata": {
    "id": "fR3wVgMzVIJy"
   },
   "outputs": [],
   "source": [
    "OUTPUT = 'week 9 data/1. Processed Data/hdb_resale_sample_processed.csv'\n",
    "\n",
    "joineddf.to_csv(OUTPUT, index=False)"
   ]
  },
  {
   "cell_type": "code",
   "execution_count": 60,
   "metadata": {},
   "outputs": [
    {
     "data": {
      "text/html": [
       "<div>\n",
       "<style scoped>\n",
       "    .dataframe tbody tr th:only-of-type {\n",
       "        vertical-align: middle;\n",
       "    }\n",
       "\n",
       "    .dataframe tbody tr th {\n",
       "        vertical-align: top;\n",
       "    }\n",
       "\n",
       "    .dataframe thead th {\n",
       "        text-align: right;\n",
       "    }\n",
       "</style>\n",
       "<table border=\"1\" class=\"dataframe\">\n",
       "  <thead>\n",
       "    <tr style=\"text-align: right;\">\n",
       "      <th></th>\n",
       "      <th>Tranc_YearMonth</th>\n",
       "      <th>flat_type</th>\n",
       "      <th>block</th>\n",
       "      <th>street_name</th>\n",
       "      <th>storey_range</th>\n",
       "      <th>floor_area_sqm</th>\n",
       "      <th>flat_model</th>\n",
       "      <th>lease_commence_date</th>\n",
       "      <th>resale_price</th>\n",
       "      <th>town</th>\n",
       "      <th>full_flat_type</th>\n",
       "      <th>Year</th>\n",
       "      <th>Month</th>\n",
       "    </tr>\n",
       "  </thead>\n",
       "  <tbody>\n",
       "    <tr>\n",
       "      <th>0</th>\n",
       "      <td>2012-03</td>\n",
       "      <td>3 ROOM</td>\n",
       "      <td>21</td>\n",
       "      <td>BALAM RD</td>\n",
       "      <td>01 TO 05</td>\n",
       "      <td>60.0</td>\n",
       "      <td>Standard</td>\n",
       "      <td>1967</td>\n",
       "      <td>276500.0</td>\n",
       "      <td>GEYLANG</td>\n",
       "      <td>3 ROOM Standard</td>\n",
       "      <td>2021</td>\n",
       "      <td>01</td>\n",
       "    </tr>\n",
       "    <tr>\n",
       "      <th>1</th>\n",
       "      <td>2012-03</td>\n",
       "      <td>3 ROOM</td>\n",
       "      <td>19</td>\n",
       "      <td>BALAM RD</td>\n",
       "      <td>06 TO 10</td>\n",
       "      <td>60.3</td>\n",
       "      <td>Standard</td>\n",
       "      <td>1967</td>\n",
       "      <td>285000.0</td>\n",
       "      <td>GEYLANG</td>\n",
       "      <td>3 ROOM Standard</td>\n",
       "      <td>2021</td>\n",
       "      <td>01</td>\n",
       "    </tr>\n",
       "    <tr>\n",
       "      <th>2</th>\n",
       "      <td>2012-03</td>\n",
       "      <td>3 ROOM</td>\n",
       "      <td>23</td>\n",
       "      <td>BALAM RD</td>\n",
       "      <td>01 TO 05</td>\n",
       "      <td>60.3</td>\n",
       "      <td>Standard</td>\n",
       "      <td>1967</td>\n",
       "      <td>290000.0</td>\n",
       "      <td>GEYLANG</td>\n",
       "      <td>3 ROOM Standard</td>\n",
       "      <td>2021</td>\n",
       "      <td>01</td>\n",
       "    </tr>\n",
       "    <tr>\n",
       "      <th>3</th>\n",
       "      <td>2012-03</td>\n",
       "      <td>3 ROOM</td>\n",
       "      <td>19</td>\n",
       "      <td>BALAM RD</td>\n",
       "      <td>01 TO 05</td>\n",
       "      <td>60.3</td>\n",
       "      <td>Standard</td>\n",
       "      <td>1967</td>\n",
       "      <td>295000.0</td>\n",
       "      <td>GEYLANG</td>\n",
       "      <td>3 ROOM Standard</td>\n",
       "      <td>2021</td>\n",
       "      <td>01</td>\n",
       "    </tr>\n",
       "    <tr>\n",
       "      <th>4</th>\n",
       "      <td>2012-03</td>\n",
       "      <td>3 ROOM</td>\n",
       "      <td>20</td>\n",
       "      <td>BALAM RD</td>\n",
       "      <td>01 TO 05</td>\n",
       "      <td>60.3</td>\n",
       "      <td>Standard</td>\n",
       "      <td>1967</td>\n",
       "      <td>299000.0</td>\n",
       "      <td>GEYLANG</td>\n",
       "      <td>3 ROOM Standard</td>\n",
       "      <td>2021</td>\n",
       "      <td>01</td>\n",
       "    </tr>\n",
       "    <tr>\n",
       "      <th>...</th>\n",
       "      <td>...</td>\n",
       "      <td>...</td>\n",
       "      <td>...</td>\n",
       "      <td>...</td>\n",
       "      <td>...</td>\n",
       "      <td>...</td>\n",
       "      <td>...</td>\n",
       "      <td>...</td>\n",
       "      <td>...</td>\n",
       "      <td>...</td>\n",
       "      <td>...</td>\n",
       "      <td>...</td>\n",
       "      <td>...</td>\n",
       "    </tr>\n",
       "    <tr>\n",
       "      <th>14995</th>\n",
       "      <td>2021-04</td>\n",
       "      <td>5 ROOM</td>\n",
       "      <td>230</td>\n",
       "      <td>LOR 8 TOA PAYOH</td>\n",
       "      <td>01 TO 03</td>\n",
       "      <td>119.0</td>\n",
       "      <td>Standard</td>\n",
       "      <td>1976</td>\n",
       "      <td>430000.0</td>\n",
       "      <td>TOA PAYOH</td>\n",
       "      <td>5 ROOM Standard</td>\n",
       "      <td>NaN</td>\n",
       "      <td>NaN</td>\n",
       "    </tr>\n",
       "    <tr>\n",
       "      <th>14996</th>\n",
       "      <td>2021-04</td>\n",
       "      <td>5 ROOM</td>\n",
       "      <td>229</td>\n",
       "      <td>LOR 8 TOA PAYOH</td>\n",
       "      <td>10 TO 12</td>\n",
       "      <td>117.0</td>\n",
       "      <td>Standard</td>\n",
       "      <td>1976</td>\n",
       "      <td>510000.0</td>\n",
       "      <td>TOA PAYOH</td>\n",
       "      <td>5 ROOM Standard</td>\n",
       "      <td>NaN</td>\n",
       "      <td>NaN</td>\n",
       "    </tr>\n",
       "    <tr>\n",
       "      <th>14997</th>\n",
       "      <td>2021-04</td>\n",
       "      <td>3 ROOM</td>\n",
       "      <td>6</td>\n",
       "      <td>MARSILING DR</td>\n",
       "      <td>01 TO 03</td>\n",
       "      <td>65.0</td>\n",
       "      <td>Improved</td>\n",
       "      <td>1976</td>\n",
       "      <td>268000.0</td>\n",
       "      <td>WOODLANDS</td>\n",
       "      <td>3 ROOM Improved</td>\n",
       "      <td>NaN</td>\n",
       "      <td>NaN</td>\n",
       "    </tr>\n",
       "    <tr>\n",
       "      <th>14998</th>\n",
       "      <td>2021-04</td>\n",
       "      <td>3 ROOM</td>\n",
       "      <td>13</td>\n",
       "      <td>MARSILING LANE</td>\n",
       "      <td>07 TO 09</td>\n",
       "      <td>76.0</td>\n",
       "      <td>Improved</td>\n",
       "      <td>1976</td>\n",
       "      <td>240000.0</td>\n",
       "      <td>WOODLANDS</td>\n",
       "      <td>3 ROOM Improved</td>\n",
       "      <td>NaN</td>\n",
       "      <td>NaN</td>\n",
       "    </tr>\n",
       "    <tr>\n",
       "      <th>14999</th>\n",
       "      <td>2021-04</td>\n",
       "      <td>4 ROOM</td>\n",
       "      <td>8</td>\n",
       "      <td>MARSILING DR</td>\n",
       "      <td>01 TO 03</td>\n",
       "      <td>88.0</td>\n",
       "      <td>Improved</td>\n",
       "      <td>1976</td>\n",
       "      <td>295000.0</td>\n",
       "      <td>WOODLANDS</td>\n",
       "      <td>4 ROOM Improved</td>\n",
       "      <td>NaN</td>\n",
       "      <td>NaN</td>\n",
       "    </tr>\n",
       "  </tbody>\n",
       "</table>\n",
       "<p>15000 rows × 13 columns</p>\n",
       "</div>"
      ],
      "text/plain": [
       "      Tranc_YearMonth flat_type block      street_name storey_range  \\\n",
       "0             2012-03    3 ROOM    21         BALAM RD     01 TO 05   \n",
       "1             2012-03    3 ROOM    19         BALAM RD     06 TO 10   \n",
       "2             2012-03    3 ROOM    23         BALAM RD     01 TO 05   \n",
       "3             2012-03    3 ROOM    19         BALAM RD     01 TO 05   \n",
       "4             2012-03    3 ROOM    20         BALAM RD     01 TO 05   \n",
       "...               ...       ...   ...              ...          ...   \n",
       "14995         2021-04    5 ROOM   230  LOR 8 TOA PAYOH     01 TO 03   \n",
       "14996         2021-04    5 ROOM   229  LOR 8 TOA PAYOH     10 TO 12   \n",
       "14997         2021-04    3 ROOM     6     MARSILING DR     01 TO 03   \n",
       "14998         2021-04    3 ROOM    13   MARSILING LANE     07 TO 09   \n",
       "14999         2021-04    4 ROOM     8     MARSILING DR     01 TO 03   \n",
       "\n",
       "       floor_area_sqm flat_model  lease_commence_date  resale_price  \\\n",
       "0                60.0   Standard                 1967      276500.0   \n",
       "1                60.3   Standard                 1967      285000.0   \n",
       "2                60.3   Standard                 1967      290000.0   \n",
       "3                60.3   Standard                 1967      295000.0   \n",
       "4                60.3   Standard                 1967      299000.0   \n",
       "...               ...        ...                  ...           ...   \n",
       "14995           119.0   Standard                 1976      430000.0   \n",
       "14996           117.0   Standard                 1976      510000.0   \n",
       "14997            65.0   Improved                 1976      268000.0   \n",
       "14998            76.0   Improved                 1976      240000.0   \n",
       "14999            88.0   Improved                 1976      295000.0   \n",
       "\n",
       "            town   full_flat_type  Year Month  \n",
       "0        GEYLANG  3 ROOM Standard  2021    01  \n",
       "1        GEYLANG  3 ROOM Standard  2021    01  \n",
       "2        GEYLANG  3 ROOM Standard  2021    01  \n",
       "3        GEYLANG  3 ROOM Standard  2021    01  \n",
       "4        GEYLANG  3 ROOM Standard  2021    01  \n",
       "...          ...              ...   ...   ...  \n",
       "14995  TOA PAYOH  5 ROOM Standard   NaN   NaN  \n",
       "14996  TOA PAYOH  5 ROOM Standard   NaN   NaN  \n",
       "14997  WOODLANDS  3 ROOM Improved   NaN   NaN  \n",
       "14998  WOODLANDS  3 ROOM Improved   NaN   NaN  \n",
       "14999  WOODLANDS  4 ROOM Improved   NaN   NaN  \n",
       "\n",
       "[15000 rows x 13 columns]"
      ]
     },
     "execution_count": 60,
     "metadata": {},
     "output_type": "execute_result"
    }
   ],
   "source": [
    "joineddf"
   ]
  },
  {
   "cell_type": "code",
   "execution_count": 61,
   "metadata": {},
   "outputs": [],
   "source": [
    "groupby_obj = joineddf.groupby(['Year', 'town'])['resale_price']"
   ]
  },
  {
   "cell_type": "code",
   "execution_count": 69,
   "metadata": {
    "scrolled": true
   },
   "outputs": [
    {
     "data": {
      "text/html": [
       "<div>\n",
       "<style scoped>\n",
       "    .dataframe tbody tr th:only-of-type {\n",
       "        vertical-align: middle;\n",
       "    }\n",
       "\n",
       "    .dataframe tbody tr th {\n",
       "        vertical-align: top;\n",
       "    }\n",
       "\n",
       "    .dataframe thead th {\n",
       "        text-align: right;\n",
       "    }\n",
       "</style>\n",
       "<table border=\"1\" class=\"dataframe\">\n",
       "  <thead>\n",
       "    <tr style=\"text-align: right;\">\n",
       "      <th></th>\n",
       "      <th>Year</th>\n",
       "      <th>town</th>\n",
       "      <th>resale_price</th>\n",
       "    </tr>\n",
       "  </thead>\n",
       "  <tbody>\n",
       "    <tr>\n",
       "      <th>0</th>\n",
       "      <td>2021</td>\n",
       "      <td>ANG MO KIO</td>\n",
       "      <td>3396800.0</td>\n",
       "    </tr>\n",
       "    <tr>\n",
       "      <th>1</th>\n",
       "      <td>2021</td>\n",
       "      <td>BISHAN</td>\n",
       "      <td>943000.0</td>\n",
       "    </tr>\n",
       "    <tr>\n",
       "      <th>2</th>\n",
       "      <td>2021</td>\n",
       "      <td>BUKIT MERAH</td>\n",
       "      <td>40850576.0</td>\n",
       "    </tr>\n",
       "    <tr>\n",
       "      <th>3</th>\n",
       "      <td>2021</td>\n",
       "      <td>BUKIT TIMAH</td>\n",
       "      <td>1908000.0</td>\n",
       "    </tr>\n",
       "    <tr>\n",
       "      <th>4</th>\n",
       "      <td>2021</td>\n",
       "      <td>CENTRAL AREA</td>\n",
       "      <td>2351776.0</td>\n",
       "    </tr>\n",
       "    <tr>\n",
       "      <th>5</th>\n",
       "      <td>2021</td>\n",
       "      <td>GEYLANG</td>\n",
       "      <td>21087576.0</td>\n",
       "    </tr>\n",
       "    <tr>\n",
       "      <th>6</th>\n",
       "      <td>2021</td>\n",
       "      <td>HOUGANG</td>\n",
       "      <td>3295000.0</td>\n",
       "    </tr>\n",
       "    <tr>\n",
       "      <th>7</th>\n",
       "      <td>2021</td>\n",
       "      <td>JURONG WEST</td>\n",
       "      <td>11359000.0</td>\n",
       "    </tr>\n",
       "    <tr>\n",
       "      <th>8</th>\n",
       "      <td>2021</td>\n",
       "      <td>KALLANG/WHAMPOA</td>\n",
       "      <td>26719300.0</td>\n",
       "    </tr>\n",
       "    <tr>\n",
       "      <th>9</th>\n",
       "      <td>2021</td>\n",
       "      <td>MARINE PARADE</td>\n",
       "      <td>16619800.0</td>\n",
       "    </tr>\n",
       "    <tr>\n",
       "      <th>10</th>\n",
       "      <td>2021</td>\n",
       "      <td>QUEENSTOWN</td>\n",
       "      <td>43081676.0</td>\n",
       "    </tr>\n",
       "    <tr>\n",
       "      <th>11</th>\n",
       "      <td>2021</td>\n",
       "      <td>TOA PAYOH</td>\n",
       "      <td>44482728.0</td>\n",
       "    </tr>\n",
       "    <tr>\n",
       "      <th>12</th>\n",
       "      <td>2021</td>\n",
       "      <td>WOODLANDS</td>\n",
       "      <td>4364500.0</td>\n",
       "    </tr>\n",
       "  </tbody>\n",
       "</table>\n",
       "</div>"
      ],
      "text/plain": [
       "    Year             town  resale_price\n",
       "0   2021       ANG MO KIO     3396800.0\n",
       "1   2021           BISHAN      943000.0\n",
       "2   2021      BUKIT MERAH    40850576.0\n",
       "3   2021      BUKIT TIMAH     1908000.0\n",
       "4   2021     CENTRAL AREA     2351776.0\n",
       "5   2021          GEYLANG    21087576.0\n",
       "6   2021          HOUGANG     3295000.0\n",
       "7   2021      JURONG WEST    11359000.0\n",
       "8   2021  KALLANG/WHAMPOA    26719300.0\n",
       "9   2021    MARINE PARADE    16619800.0\n",
       "10  2021       QUEENSTOWN    43081676.0\n",
       "11  2021        TOA PAYOH    44482728.0\n",
       "12  2021        WOODLANDS     4364500.0"
      ]
     },
     "execution_count": 69,
     "metadata": {},
     "output_type": "execute_result"
    }
   ],
   "source": [
    "groupby_obj.sum().reset_index()"
   ]
  },
  {
   "cell_type": "code",
   "execution_count": 66,
   "metadata": {},
   "outputs": [
    {
     "data": {
      "text/plain": [
       "44482728.0"
      ]
     },
     "execution_count": 66,
     "metadata": {},
     "output_type": "execute_result"
    }
   ],
   "source": [
    "groupby_obj.sort_va"
   ]
  },
  {
   "cell_type": "code",
   "execution_count": null,
   "metadata": {},
   "outputs": [],
   "source": []
  },
  {
   "cell_type": "markdown",
   "metadata": {},
   "source": [
    "# !! Your Turn !!"
   ]
  },
  {
   "cell_type": "markdown",
   "metadata": {},
   "source": [
    "## Replace the code marked as <..> COMPLETELY with your own.\n",
    "For example:\n",
    "length = <..> will be replaced by length = 10"
   ]
  },
  {
   "cell_type": "markdown",
   "metadata": {},
   "source": [
    "# Question 1 \n",
    "1) Using OS, list out the list of files in week 9 data > 0. Raw Data > full > flat-types <br/>\n",
    "2) Read them as separate dataframes and save them in a list named <b>hdbYearDFs</b>"
   ]
  },
  {
   "cell_type": "code",
   "execution_count": null,
   "metadata": {},
   "outputs": [],
   "source": [
    "os.<..>"
   ]
  },
  {
   "cell_type": "code",
   "execution_count": null,
   "metadata": {},
   "outputs": [],
   "source": [
    "path = <..>\n",
    "files = os.<..>\n",
    "hdbYearDFs = []\n",
    "for <..>:\n",
    "    <..>"
   ]
  },
  {
   "cell_type": "markdown",
   "metadata": {},
   "source": [
    "# Question 2 \n",
    "1) Concat the list of dataframes in <b>hebYearDFs</b> and save the final dataframe as <b>hdbdf</b> <br/>\n",
    "2) Reset <b>hdbdf</b> index and drop the old index. <br/>\n",
    "3) Print the last 10 rows of <b>hdbdf</b>"
   ]
  },
  {
   "cell_type": "code",
   "execution_count": null,
   "metadata": {},
   "outputs": [],
   "source": [
    "hdbdf = <..>"
   ]
  },
  {
   "cell_type": "markdown",
   "metadata": {},
   "source": [
    "# Question 3\n",
    "1) Create 2 new columns <b>Tranc_Year</b> and <b>Tranc_Month</b> using getYear and getMonth functions <br/>\n",
    "2) Create a new function <b>getMidStorey</b> that takes in the <b>storey_range</b> of the resale flat and returns the mid storey (round to nearest integer) <br/>\n",
    "3) Create a new column <b>mid_storey</b> using the <b>getMidStorey</b>"
   ]
  },
  {
   "cell_type": "code",
   "execution_count": null,
   "metadata": {},
   "outputs": [],
   "source": [
    "hdbdf['Tranc_Year'] = hdbdf['Tranc_YearMonth'].<..>\n",
    "hdbdf['Tranc_Month'] = hdbdf['Tranc_YearMonth'].<..>"
   ]
  },
  {
   "cell_type": "code",
   "execution_count": null,
   "metadata": {},
   "outputs": [],
   "source": [
    "def getMidStorey(storey_range):\n",
    "    <..>"
   ]
  },
  {
   "cell_type": "code",
   "execution_count": null,
   "metadata": {},
   "outputs": [],
   "source": [
    "hdbdf['mid_storey'] = <..>"
   ]
  },
  {
   "cell_type": "markdown",
   "metadata": {},
   "source": [
    "# Question 4 \n",
    "1) Create a new column <b>full_flat_type</b> using getHDBFullType function <br/>\n",
    "2) Create a new function <b>getAddress</b> that takes in the a row and returns the address <br/>\n",
    "<b>Sample Output: 7, TELOK BLANGAH CRES</b> <br/>\n",
    "3) Create a new column <b>address</b> using the <b>getAddress</b>"
   ]
  },
  {
   "cell_type": "code",
   "execution_count": null,
   "metadata": {},
   "outputs": [],
   "source": [
    "<..>"
   ]
  },
  {
   "cell_type": "markdown",
   "metadata": {},
   "source": [
    "# Question 5"
   ]
  },
  {
   "cell_type": "markdown",
   "metadata": {},
   "source": [
    "1) Create a new column **floor_area_sqft**, to store the floor area in squared feet\n",
    "\n",
    "    1 squared meter = 10.764 squared foot"
   ]
  },
  {
   "cell_type": "code",
   "execution_count": null,
   "metadata": {},
   "outputs": [],
   "source": [
    "<..>"
   ]
  },
  {
   "cell_type": "markdown",
   "metadata": {},
   "source": [
    "2) Create a new column **price_per_sqft**, which is the price per squared foot of the particular resale unit"
   ]
  },
  {
   "cell_type": "code",
   "execution_count": null,
   "metadata": {},
   "outputs": [],
   "source": [
    "<..>"
   ]
  },
  {
   "cell_type": "markdown",
   "metadata": {},
   "source": [
    "3) Create a new column **hdb_age**, which is calculated based on current year minus the **lease_commence_date**\n"
   ]
  },
  {
   "cell_type": "code",
   "execution_count": null,
   "metadata": {},
   "outputs": [],
   "source": [
    "<..>"
   ]
  },
  {
   "cell_type": "markdown",
   "metadata": {},
   "source": [
    "# Question 6 \n",
    "1) Read <b>hdb_resale_full_raw_address.csv</b> into dataframe and name it <b>addressdf</b> <br/>\n",
    "2) Print out the top 5 rows and find a common column with <b>hdbdf</b> <br/>\n",
    "3) Join the 2 dataFrames (left: hdbdf, right:addressdf) together using left join and name the final dataframe <b>hdbaddressdf</b>"
   ]
  },
  {
   "cell_type": "code",
   "execution_count": null,
   "metadata": {},
   "outputs": [],
   "source": [
    "addressdf = pd.read_csv(<..>)"
   ]
  },
  {
   "cell_type": "code",
   "execution_count": null,
   "metadata": {},
   "outputs": [],
   "source": [
    "addressdf.<..>"
   ]
  },
  {
   "cell_type": "code",
   "execution_count": null,
   "metadata": {},
   "outputs": [],
   "source": [
    "hdbaddressdf = pd.merge(<..>)"
   ]
  },
  {
   "cell_type": "markdown",
   "metadata": {},
   "source": [
    "# Question 7*"
   ]
  },
  {
   "cell_type": "markdown",
   "metadata": {},
   "source": [
    "1) Calculate the a column **percentage_difference_from_average**, which is the percentage difference of the unit's resale price over the average resale price of the same flat_type in the same town. </br>\n",
    "\n",
    "For example, the average for \"3 ROOM\" flat type in ANG MO KIO is \\\\$324,380. </br>\n",
    "For a particular HDB unit with resale price of $410,000, the percentage difference is .264, which means this particular unit is 26.4% more expensive than the average resale price of the same flat_type in the same town.\n",
    "\n",
    "> Note:\n",
    "> - Do no need to round up the average resale price (of flat_type in each town). Use the numbers (decimal points) as you calculated </br>\n",
    "> - You may need to use **groupby** method to calculate the average resale price for flat_type in each town. Do rename the column name into something meaningful, for example **avg_price_by_town_flattype**\n",
    "> - You may need to use **\"merge\"** method to join two tables or **\"apply\"** a function to add a new column before calculating the percentage difference\n",
    "> - If you have created any temporary column(s) in the **fullhdbdf**, remove the column(s)"
   ]
  },
  {
   "cell_type": "code",
   "execution_count": null,
   "metadata": {},
   "outputs": [],
   "source": [
    "<..>"
   ]
  },
  {
   "cell_type": "markdown",
   "metadata": {},
   "source": [
    "# Question 8 \n",
    "1) Save the fullhdbdf in Processed Data folder as <b>hdb_resale_full_processed.csv</b> <br/>"
   ]
  },
  {
   "cell_type": "code",
   "execution_count": null,
   "metadata": {},
   "outputs": [],
   "source": [
    "<..>"
   ]
  }
 ],
 "metadata": {
  "colab": {
   "name": "DC Bootcamp Week 17.ipynb",
   "provenance": []
  },
  "kernelspec": {
   "display_name": "Python 3",
   "language": "python",
   "name": "python3"
  },
  "language_info": {
   "codemirror_mode": {
    "name": "ipython",
    "version": 3
   },
   "file_extension": ".py",
   "mimetype": "text/x-python",
   "name": "python",
   "nbconvert_exporter": "python",
   "pygments_lexer": "ipython3",
   "version": "3.8.8"
  }
 },
 "nbformat": 4,
 "nbformat_minor": 1
}
